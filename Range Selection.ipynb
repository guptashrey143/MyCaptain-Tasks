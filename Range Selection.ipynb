{
 "cells": [
  {
   "cell_type": "code",
   "execution_count": 5,
   "metadata": {},
   "outputs": [
    {
     "name": "stdout",
     "output_type": "stream",
     "text": [
      "12 5 64 \n",
      "12 14 3 "
     ]
    }
   ],
   "source": [
    "list_1 = [12, -7, 5, 64, -14]\n",
    "\n",
    "for i in list_1:\n",
    "    if i >= 0:\n",
    "        print(i, end = \" \")\n",
    "        \n",
    "print()\n",
    "\n",
    "list_2 = [12, 14, -95, 3]\n",
    "\n",
    "for i in list_2:\n",
    "    if i >= 0:\n",
    "        print(i, end = \" \")\n",
    "        "
   ]
  }
 ],
 "metadata": {
  "kernelspec": {
   "display_name": "Python 3",
   "language": "python",
   "name": "python3"
  },
  "language_info": {
   "codemirror_mode": {
    "name": "ipython",
    "version": 3
   },
   "file_extension": ".py",
   "mimetype": "text/x-python",
   "name": "python",
   "nbconvert_exporter": "python",
   "pygments_lexer": "ipython3",
   "version": "3.8.3"
  }
 },
 "nbformat": 4,
 "nbformat_minor": 4
}
