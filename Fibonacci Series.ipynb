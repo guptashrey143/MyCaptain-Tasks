{
 "cells": [
  {
   "cell_type": "code",
   "execution_count": 4,
   "metadata": {},
   "outputs": [
    {
     "name": "stdout",
     "output_type": "stream",
     "text": [
      "Enter the length of fibonacci series you want:5\n",
      "0  ,  1 ,  1 ,  2 ,  3 ,  5 ,  8 ,  13"
     ]
    }
   ],
   "source": [
    "n = int(input(\"Enter the length of fibonacci series you want:\"))\n",
    "\n",
    "a = 0\n",
    "b = 1\n",
    "print(a,\" , \",b, end = \"\")\n",
    "i = 2\n",
    "while(i <= n):\n",
    "    b = a + b\n",
    "    a = b - a\n",
    "    print(\" , \", b, end = \"\")\n",
    "    i += 1"
   ]
  }
 ],
 "metadata": {
  "kernelspec": {
   "display_name": "Python 3",
   "language": "python",
   "name": "python3"
  },
  "language_info": {
   "codemirror_mode": {
    "name": "ipython",
    "version": 3
   },
   "file_extension": ".py",
   "mimetype": "text/x-python",
   "name": "python",
   "nbconvert_exporter": "python",
   "pygments_lexer": "ipython3",
   "version": "3.8.3"
  }
 },
 "nbformat": 4,
 "nbformat_minor": 4
}
